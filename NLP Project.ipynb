{
  "nbformat": 4,
  "nbformat_minor": 0,
  "metadata": {
    "colab": {
      "name": "Muhamad_Iqbal_Maulana (2).ipynb",
      "provenance": []
    },
    "kernelspec": {
      "name": "python3",
      "display_name": "Python 3"
    },
    "language_info": {
      "name": "python"
    }
  },
  "cells": [
    {
      "cell_type": "code",
      "metadata": {
        "id": "-B3wzP75B0FN"
      },
      "source": [
        "import pandas as pd\n",
        "df = pd.read_csv('Kemenag Jatim.csv')"
      ],
      "execution_count": 26,
      "outputs": []
    },
    {
      "cell_type": "code",
      "metadata": {
        "colab": {
          "base_uri": "https://localhost:8080/",
          "height": 204
        },
        "id": "aeDz3W9sCjVh",
        "outputId": "90e50fc2-8f5a-4573-e91f-059a90b79570"
      },
      "source": [
        "df.head()"
      ],
      "execution_count": 27,
      "outputs": [
        {
          "output_type": "execute_result",
          "data": {
            "text/html": [
              "<div>\n",
              "<style scoped>\n",
              "    .dataframe tbody tr th:only-of-type {\n",
              "        vertical-align: middle;\n",
              "    }\n",
              "\n",
              "    .dataframe tbody tr th {\n",
              "        vertical-align: top;\n",
              "    }\n",
              "\n",
              "    .dataframe thead th {\n",
              "        text-align: right;\n",
              "    }\n",
              "</style>\n",
              "<table border=\"1\" class=\"dataframe\">\n",
              "  <thead>\n",
              "    <tr style=\"text-align: right;\">\n",
              "      <th></th>\n",
              "      <th>NAMA PENDAFTAR</th>\n",
              "      <th>STATUS</th>\n",
              "      <th>ALASAN TIDAK LULUS</th>\n",
              "    </tr>\n",
              "  </thead>\n",
              "  <tbody>\n",
              "    <tr>\n",
              "      <th>0</th>\n",
              "      <td>ARIF PUJI SATRIO LAKSONO</td>\n",
              "      <td>LULUS</td>\n",
              "      <td>NaN</td>\n",
              "    </tr>\n",
              "    <tr>\n",
              "      <th>1</th>\n",
              "      <td>RIA IDOLA NOVITA MALASARI</td>\n",
              "      <td>LULUS</td>\n",
              "      <td>NaN</td>\n",
              "    </tr>\n",
              "    <tr>\n",
              "      <th>2</th>\n",
              "      <td>NANANG MULYANTO</td>\n",
              "      <td>TIDAK LULUS</td>\n",
              "      <td>null : Tanggal kelulusan ijasah tidak pada mas...</td>\n",
              "    </tr>\n",
              "    <tr>\n",
              "      <th>3</th>\n",
              "      <td>MUTAMIMMATUS SA'ADAH</td>\n",
              "      <td>LULUS</td>\n",
              "      <td>NaN</td>\n",
              "    </tr>\n",
              "    <tr>\n",
              "      <th>4</th>\n",
              "      <td>HENDRA TRI JUWANDANA</td>\n",
              "      <td>LULUS</td>\n",
              "      <td>NaN</td>\n",
              "    </tr>\n",
              "  </tbody>\n",
              "</table>\n",
              "</div>"
            ],
            "text/plain": [
              "              NAMA PENDAFTAR  ...                                 ALASAN TIDAK LULUS\n",
              "0   ARIF PUJI SATRIO LAKSONO  ...                                                NaN\n",
              "1  RIA IDOLA NOVITA MALASARI  ...                                                NaN\n",
              "2            NANANG MULYANTO  ...  null : Tanggal kelulusan ijasah tidak pada mas...\n",
              "3       MUTAMIMMATUS SA'ADAH  ...                                                NaN\n",
              "4       HENDRA TRI JUWANDANA  ...                                                NaN\n",
              "\n",
              "[5 rows x 3 columns]"
            ]
          },
          "metadata": {
            "tags": []
          },
          "execution_count": 27
        }
      ]
    },
    {
      "cell_type": "code",
      "metadata": {
        "colab": {
          "base_uri": "https://localhost:8080/",
          "height": 418
        },
        "id": "PPWsldtpCv_O",
        "outputId": "453be121-fe5d-4ff3-b342-fe008021874d"
      },
      "source": [
        "category = pd.get_dummies(df.STATUS)\n",
        "df_baru = pd.concat([df, category], axis=1)\n",
        "df_baru = df_baru.drop(columns='STATUS')\n",
        "df_baru"
      ],
      "execution_count": 28,
      "outputs": [
        {
          "output_type": "execute_result",
          "data": {
            "text/html": [
              "<div>\n",
              "<style scoped>\n",
              "    .dataframe tbody tr th:only-of-type {\n",
              "        vertical-align: middle;\n",
              "    }\n",
              "\n",
              "    .dataframe tbody tr th {\n",
              "        vertical-align: top;\n",
              "    }\n",
              "\n",
              "    .dataframe thead th {\n",
              "        text-align: right;\n",
              "    }\n",
              "</style>\n",
              "<table border=\"1\" class=\"dataframe\">\n",
              "  <thead>\n",
              "    <tr style=\"text-align: right;\">\n",
              "      <th></th>\n",
              "      <th>NAMA PENDAFTAR</th>\n",
              "      <th>ALASAN TIDAK LULUS</th>\n",
              "      <th>LULUS</th>\n",
              "      <th>TIDAK LULUS</th>\n",
              "    </tr>\n",
              "  </thead>\n",
              "  <tbody>\n",
              "    <tr>\n",
              "      <th>0</th>\n",
              "      <td>ARIF PUJI SATRIO LAKSONO</td>\n",
              "      <td>NaN</td>\n",
              "      <td>1</td>\n",
              "      <td>0</td>\n",
              "    </tr>\n",
              "    <tr>\n",
              "      <th>1</th>\n",
              "      <td>RIA IDOLA NOVITA MALASARI</td>\n",
              "      <td>NaN</td>\n",
              "      <td>1</td>\n",
              "      <td>0</td>\n",
              "    </tr>\n",
              "    <tr>\n",
              "      <th>2</th>\n",
              "      <td>NANANG MULYANTO</td>\n",
              "      <td>null : Tanggal kelulusan ijasah tidak pada mas...</td>\n",
              "      <td>0</td>\n",
              "      <td>1</td>\n",
              "    </tr>\n",
              "    <tr>\n",
              "      <th>3</th>\n",
              "      <td>MUTAMIMMATUS SA'ADAH</td>\n",
              "      <td>NaN</td>\n",
              "      <td>1</td>\n",
              "      <td>0</td>\n",
              "    </tr>\n",
              "    <tr>\n",
              "      <th>4</th>\n",
              "      <td>HENDRA TRI JUWANDANA</td>\n",
              "      <td>NaN</td>\n",
              "      <td>1</td>\n",
              "      <td>0</td>\n",
              "    </tr>\n",
              "    <tr>\n",
              "      <th>...</th>\n",
              "      <td>...</td>\n",
              "      <td>...</td>\n",
              "      <td>...</td>\n",
              "      <td>...</td>\n",
              "    </tr>\n",
              "    <tr>\n",
              "      <th>2072</th>\n",
              "      <td>EKO PRASETYO</td>\n",
              "      <td>null : Ijasah dan Transkrip Nilai tidak dilega...</td>\n",
              "      <td>0</td>\n",
              "      <td>1</td>\n",
              "    </tr>\n",
              "    <tr>\n",
              "      <th>2073</th>\n",
              "      <td>ELSA DWI AGUNG KURNIAFIN</td>\n",
              "      <td>NaN</td>\n",
              "      <td>1</td>\n",
              "      <td>0</td>\n",
              "    </tr>\n",
              "    <tr>\n",
              "      <th>2074</th>\n",
              "      <td>DYAH TRI SUBIYANTORO</td>\n",
              "      <td>NaN</td>\n",
              "      <td>1</td>\n",
              "      <td>0</td>\n",
              "    </tr>\n",
              "    <tr>\n",
              "      <th>2075</th>\n",
              "      <td>M. DJUNAIDI</td>\n",
              "      <td>NaN</td>\n",
              "      <td>1</td>\n",
              "      <td>0</td>\n",
              "    </tr>\n",
              "    <tr>\n",
              "      <th>2076</th>\n",
              "      <td>YANTI ANGGRAINY</td>\n",
              "      <td>NaN</td>\n",
              "      <td>1</td>\n",
              "      <td>0</td>\n",
              "    </tr>\n",
              "  </tbody>\n",
              "</table>\n",
              "<p>2077 rows × 4 columns</p>\n",
              "</div>"
            ],
            "text/plain": [
              "                 NAMA PENDAFTAR  ... TIDAK LULUS\n",
              "0      ARIF PUJI SATRIO LAKSONO  ...           0\n",
              "1     RIA IDOLA NOVITA MALASARI  ...           0\n",
              "2               NANANG MULYANTO  ...           1\n",
              "3          MUTAMIMMATUS SA'ADAH  ...           0\n",
              "4          HENDRA TRI JUWANDANA  ...           0\n",
              "...                         ...  ...         ...\n",
              "2072               EKO PRASETYO  ...           1\n",
              "2073   ELSA DWI AGUNG KURNIAFIN  ...           0\n",
              "2074       DYAH TRI SUBIYANTORO  ...           0\n",
              "2075                M. DJUNAIDI  ...           0\n",
              "2076            YANTI ANGGRAINY  ...           0\n",
              "\n",
              "[2077 rows x 4 columns]"
            ]
          },
          "metadata": {
            "tags": []
          },
          "execution_count": 28
        }
      ]
    },
    {
      "cell_type": "code",
      "metadata": {
        "id": "JLW6W_diD2kJ"
      },
      "source": [
        "Name = df_baru['NAMA PENDAFTAR'].values\n",
        "Status = df_baru[['LULUS', 'TIDAK LULUS']].values"
      ],
      "execution_count": 31,
      "outputs": []
    },
    {
      "cell_type": "code",
      "metadata": {
        "id": "1uNZrtqeFeJi"
      },
      "source": [
        "from sklearn.model_selection import train_test_split\n",
        "Name_latih, Name_test, Status_latih, Status_test = train_test_split(Name, Status, test_size=0.2)"
      ],
      "execution_count": 32,
      "outputs": []
    },
    {
      "cell_type": "code",
      "metadata": {
        "id": "QxcI9YsqFx3H"
      },
      "source": [
        "from tensorflow.keras.preprocessing.text import Tokenizer\n",
        "from tensorflow.keras.preprocessing.sequence import pad_sequences\n",
        " \n",
        "tokenizer = Tokenizer(num_words=5000, oov_token='x')\n",
        "tokenizer.fit_on_texts(Name_latih) \n",
        "tokenizer.fit_on_texts(Name_test)\n",
        " \n",
        "sekuens_latih = tokenizer.texts_to_sequences(Name_latih)\n",
        "sekuens_test = tokenizer.texts_to_sequences(Name_test)\n",
        " \n",
        "padded_latih = pad_sequences(sekuens_latih) \n",
        "padded_test = pad_sequences(sekuens_test)"
      ],
      "execution_count": 33,
      "outputs": []
    },
    {
      "cell_type": "code",
      "metadata": {
        "id": "anpvHFGXVkUs"
      },
      "source": [
        "import tensorflow as tf\n",
        "model = tf.keras.Sequential([\n",
        "    tf.keras.layers.Embedding(input_dim=5000, output_dim=16),\n",
        "    tf.keras.layers.LSTM(64),\n",
        "    tf.keras.layers.Dense(128, activation='relu'),\n",
        "    tf.keras.layers.Dense(64, activation='relu'),\n",
        "    tf.keras.layers.Dense(2, activation='softmax')\n",
        "])\n",
        "model.compile(loss='categorical_crossentropy',optimizer='adam',metrics=['accuracy'])"
      ],
      "execution_count": 37,
      "outputs": []
    },
    {
      "cell_type": "code",
      "metadata": {
        "colab": {
          "base_uri": "https://localhost:8080/"
        },
        "id": "_-vUyGFdV1mw",
        "outputId": "85df8f31-9478-407a-a975-fe5deb077d99"
      },
      "source": [
        "num_epochs = 30\n",
        "history = model.fit(padded_latih, Status_latih, epochs=num_epochs, \n",
        "                    validation_data=(padded_test, Status_test), verbose=2)"
      ],
      "execution_count": 39,
      "outputs": [
        {
          "output_type": "stream",
          "text": [
            "Epoch 1/30\n",
            "52/52 - 3s - loss: 0.5074 - accuracy: 0.8218 - val_loss: 0.4696 - val_accuracy: 0.8269\n",
            "Epoch 2/30\n",
            "52/52 - 0s - loss: 0.4548 - accuracy: 0.8272 - val_loss: 0.4878 - val_accuracy: 0.8269\n",
            "Epoch 3/30\n",
            "52/52 - 0s - loss: 0.4280 - accuracy: 0.8272 - val_loss: 0.4717 - val_accuracy: 0.8269\n",
            "Epoch 4/30\n",
            "52/52 - 0s - loss: 0.2634 - accuracy: 0.8808 - val_loss: 0.7273 - val_accuracy: 0.6707\n",
            "Epoch 5/30\n",
            "52/52 - 0s - loss: 0.1157 - accuracy: 0.9597 - val_loss: 0.7811 - val_accuracy: 0.7308\n",
            "Epoch 6/30\n",
            "52/52 - 0s - loss: 0.0692 - accuracy: 0.9759 - val_loss: 0.9106 - val_accuracy: 0.6635\n",
            "Epoch 7/30\n",
            "52/52 - 0s - loss: 0.0511 - accuracy: 0.9813 - val_loss: 0.9066 - val_accuracy: 0.6947\n",
            "Epoch 8/30\n",
            "52/52 - 0s - loss: 0.0295 - accuracy: 0.9898 - val_loss: 1.0250 - val_accuracy: 0.7091\n",
            "Epoch 9/30\n",
            "52/52 - 0s - loss: 0.0250 - accuracy: 0.9898 - val_loss: 1.1788 - val_accuracy: 0.6587\n",
            "Epoch 10/30\n",
            "52/52 - 0s - loss: 0.0237 - accuracy: 0.9916 - val_loss: 1.3030 - val_accuracy: 0.5962\n",
            "Epoch 11/30\n",
            "52/52 - 0s - loss: 0.0210 - accuracy: 0.9922 - val_loss: 1.1543 - val_accuracy: 0.7091\n",
            "Epoch 12/30\n",
            "52/52 - 0s - loss: 0.0192 - accuracy: 0.9940 - val_loss: 1.2018 - val_accuracy: 0.6875\n",
            "Epoch 13/30\n",
            "52/52 - 0s - loss: 0.0166 - accuracy: 0.9946 - val_loss: 1.3032 - val_accuracy: 0.6418\n",
            "Epoch 14/30\n",
            "52/52 - 0s - loss: 0.0150 - accuracy: 0.9934 - val_loss: 1.1983 - val_accuracy: 0.7139\n",
            "Epoch 15/30\n",
            "52/52 - 0s - loss: 0.0134 - accuracy: 0.9946 - val_loss: 1.2765 - val_accuracy: 0.7043\n",
            "Epoch 16/30\n",
            "52/52 - 0s - loss: 0.0160 - accuracy: 0.9940 - val_loss: 1.2752 - val_accuracy: 0.7163\n",
            "Epoch 17/30\n",
            "52/52 - 0s - loss: 0.0123 - accuracy: 0.9964 - val_loss: 1.2638 - val_accuracy: 0.7572\n",
            "Epoch 18/30\n",
            "52/52 - 0s - loss: 0.0149 - accuracy: 0.9940 - val_loss: 1.2430 - val_accuracy: 0.7548\n",
            "Epoch 19/30\n",
            "52/52 - 0s - loss: 0.0127 - accuracy: 0.9934 - val_loss: 1.3298 - val_accuracy: 0.6947\n",
            "Epoch 20/30\n",
            "52/52 - 0s - loss: 0.0126 - accuracy: 0.9946 - val_loss: 1.3086 - val_accuracy: 0.6995\n",
            "Epoch 21/30\n",
            "52/52 - 0s - loss: 0.0115 - accuracy: 0.9940 - val_loss: 1.2959 - val_accuracy: 0.7380\n",
            "Epoch 22/30\n",
            "52/52 - 0s - loss: 0.0086 - accuracy: 0.9964 - val_loss: 1.8491 - val_accuracy: 0.5745\n",
            "Epoch 23/30\n",
            "52/52 - 0s - loss: 0.0144 - accuracy: 0.9940 - val_loss: 1.5451 - val_accuracy: 0.6611\n",
            "Epoch 24/30\n",
            "52/52 - 0s - loss: 0.0125 - accuracy: 0.9934 - val_loss: 1.5017 - val_accuracy: 0.6370\n",
            "Epoch 25/30\n",
            "52/52 - 0s - loss: 0.0111 - accuracy: 0.9946 - val_loss: 1.4847 - val_accuracy: 0.6707\n",
            "Epoch 26/30\n",
            "52/52 - 0s - loss: 0.0124 - accuracy: 0.9946 - val_loss: 1.4708 - val_accuracy: 0.6923\n",
            "Epoch 27/30\n",
            "52/52 - 0s - loss: 0.0100 - accuracy: 0.9928 - val_loss: 1.5014 - val_accuracy: 0.6923\n",
            "Epoch 28/30\n",
            "52/52 - 0s - loss: 0.0099 - accuracy: 0.9958 - val_loss: 1.4092 - val_accuracy: 0.7308\n",
            "Epoch 29/30\n",
            "52/52 - 0s - loss: 0.0094 - accuracy: 0.9940 - val_loss: 1.4323 - val_accuracy: 0.7091\n",
            "Epoch 30/30\n",
            "52/52 - 0s - loss: 0.0089 - accuracy: 0.9952 - val_loss: 1.4767 - val_accuracy: 0.7428\n"
          ],
          "name": "stdout"
        }
      ]
    },
    {
      "cell_type": "code",
      "metadata": {
        "id": "rG3m67VsV5MB"
      },
      "source": [
        ""
      ],
      "execution_count": null,
      "outputs": []
    }
  ]
}